{
 "cells": [
  {
   "cell_type": "code",
   "execution_count": 53,
   "metadata": {},
   "outputs": [],
   "source": [
    "import random"
   ]
  },
  {
   "cell_type": "code",
   "execution_count": 54,
   "metadata": {},
   "outputs": [],
   "source": [
    "# Parameter Masalah\n",
    "target = 36          # Target nilai untuk x^2\n",
    "population_size = 10 # Jumlah populasi\n",
    "generations = 50     # Jumlah generasi\n",
    "mutation_rate = 0.2  # Tingkat mutasi\n"
   ]
  },
  {
   "cell_type": "code",
   "execution_count": 55,
   "metadata": {},
   "outputs": [],
   "source": [
    "# Fitness Function: Mengukur seberapa dekat x^2 dengan target\n",
    "def fitness(ind):\n",
    "    result = ind ** 2\n",
    "    return -abs(target - result)  # Semakin kecil selisih, semakin tinggi fitness\n"
   ]
  },
  {
   "cell_type": "code",
   "execution_count": 56,
   "metadata": {},
   "outputs": [],
   "source": [
    "# Buat Populasi Awal\n",
    "def generate_population():\n",
    "    return [random.uniform(-10, 10) for _ in range(population_size)]\n",
    "\n",
    "population = generate_population()\n"
   ]
  },
  {
   "cell_type": "code",
   "execution_count": 57,
   "metadata": {},
   "outputs": [],
   "source": [
    "# Seleksi: Pilih individu terbaik berdasarkan fitness\n",
    "def select(population):\n",
    "    return sorted(population, key=fitness, reverse=True)[:population_size // 2]\n"
   ]
  },
  {
   "cell_type": "code",
   "execution_count": 58,
   "metadata": {},
   "outputs": [],
   "source": [
    "# Crossover: Menggabungkan dua individu\n",
    "def crossover(parent1, parent2):\n",
    "    child1 = (parent1 + parent2) / 2\n",
    "    child2 = parent1 - (parent1 - parent2) / 2\n",
    "    return child1, child2\n"
   ]
  },
  {
   "cell_type": "code",
   "execution_count": 59,
   "metadata": {},
   "outputs": [],
   "source": [
    "# Mutasi: Mengubah nilai individu secara acak\n",
    "def mutate(ind):\n",
    "    if random.random() < mutation_rate:\n",
    "        ind += random.uniform(-1, 1)\n",
    "    return ind\n"
   ]
  },
  {
   "cell_type": "code",
   "execution_count": null,
   "metadata": {},
   "outputs": [],
   "source": [
    "# Algoritma Genetika\n",
    "for generation in range(generations):\n",
    "    # Evaluasi Fitness\n",
    "    population = sorted(population, key=fitness, reverse=True)\n",
    "    best = population[0]\n",
    "    \n",
    "    \n",
    "    print(f\"Generasi {generation}: {best:.4f} dengan fitness {fitness(best):.4f}\")\n",
    "    \n",
    "    \n",
    "    if abs(best**2 - target) < 1e-3:\n",
    "        break\n",
    "    \n",
    "    \n",
    "    selected = select(population)\n",
    "    next_population = []\n",
    "    \n",
    "    while len(next_population) < population_size:\n",
    "        parent1, parent2 = random.sample(selected, 2)\n",
    "        child1, child2 = crossover(parent1, parent2)\n",
    "        next_population.extend([mutate(child1), mutate(child2)])\n",
    "    \n",
    "    population = next_population[:population_size]\n"
   ]
  },
  {
   "cell_type": "code",
   "execution_count": 62,
   "metadata": {},
   "outputs": [
    {
     "name": "stdout",
     "output_type": "stream",
     "text": [
      "Solusi Terbaik: 5.9822 dengan nilai mendekati 35.7868\n"
     ]
    }
   ],
   "source": [
    "print(f\"Solusi Terbaik: {best:.4f} dengan nilai mendekati {best**2:.4f}\")\n"
   ]
  }
 ],
 "metadata": {
  "kernelspec": {
   "display_name": "Python 3",
   "language": "python",
   "name": "python3"
  },
  "language_info": {
   "codemirror_mode": {
    "name": "ipython",
    "version": 3
   },
   "file_extension": ".py",
   "mimetype": "text/x-python",
   "name": "python",
   "nbconvert_exporter": "python",
   "pygments_lexer": "ipython3",
   "version": "3.11.9"
  }
 },
 "nbformat": 4,
 "nbformat_minor": 2
}
